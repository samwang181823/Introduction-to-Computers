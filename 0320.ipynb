{
  "nbformat": 4,
  "nbformat_minor": 0,
  "metadata": {
    "colab": {
      "provenance": [],
      "authorship_tag": "ABX9TyOWkq2D1AT8WqyIAojeN2JL",
      "include_colab_link": true
    },
    "kernelspec": {
      "name": "python3",
      "display_name": "Python 3"
    },
    "language_info": {
      "name": "python"
    }
  },
  "cells": [
    {
      "cell_type": "markdown",
      "metadata": {
        "id": "view-in-github",
        "colab_type": "text"
      },
      "source": [
        "<a href=\"https://colab.research.google.com/github/samwang181823/Introduction-to-Computers/blob/main/0320.ipynb\" target=\"_parent\"><img src=\"https://colab.research.google.com/assets/colab-badge.svg\" alt=\"Open In Colab\"/></a>"
      ]
    },
    {
      "cell_type": "code",
      "execution_count": 6,
      "metadata": {
        "colab": {
          "base_uri": "https://localhost:8080/"
        },
        "id": "SSEkmzZt0ucl",
        "outputId": "cb916e85-86da-4f92-a4b9-0d86aca861ae"
      },
      "outputs": [
        {
          "name": "stdout",
          "output_type": "stream",
          "text": [
            "請輸入國文成績30\n",
            "請輸入數學成績90\n",
            "請輸入英文成績90\n"
          ]
        }
      ],
      "source": [
        "a = int(input(\"請輸入國文成績\"))\n",
        "b = int(input(\"請輸入數學成績\"))\n",
        "c = int(input(\"請輸入英文成績\"))"
      ]
    },
    {
      "cell_type": "code",
      "source": [
        "print(\"您的總分為:\")\n",
        "print(a+b+c)"
      ],
      "metadata": {
        "colab": {
          "base_uri": "https://localhost:8080/"
        },
        "id": "9cFcsrmL1dIJ",
        "outputId": "30886dbe-c982-46ac-b4e5-de9ddb160449"
      },
      "execution_count": 7,
      "outputs": [
        {
          "output_type": "stream",
          "name": "stdout",
          "text": [
            "您的總分為:\n",
            "210\n"
          ]
        }
      ]
    },
    {
      "cell_type": "code",
      "source": [
        "上底 = int(input(\"請輸入梯形上底：\"))\n",
        "下底 = int(input(\"請輸入梯形下底：\"))\n",
        "高 = int(input(\"請輸入梯形高：\"))"
      ],
      "metadata": {
        "colab": {
          "base_uri": "https://localhost:8080/"
        },
        "id": "l7tk-szQ1m1z",
        "outputId": "77c3164a-ea76-4c7b-cb89-5eb3ba9a38a1"
      },
      "execution_count": 4,
      "outputs": [
        {
          "name": "stdout",
          "output_type": "stream",
          "text": [
            "請輸入梯形上底：8\n",
            "請輸入梯形下底：7\n",
            "請輸入梯形高：10\n"
          ]
        }
      ]
    },
    {
      "cell_type": "code",
      "source": [
        "面積 = (上底+下底)*高/2\n",
        "print(面積)"
      ],
      "metadata": {
        "colab": {
          "base_uri": "https://localhost:8080/"
        },
        "id": "lY81gYtx23BT",
        "outputId": "f40d3ec6-5278-4186-d7cc-70a2f9f2059d"
      },
      "execution_count": 8,
      "outputs": [
        {
          "output_type": "stream",
          "name": "stdout",
          "text": [
            "75.0\n"
          ]
        }
      ]
    }
  ]
}