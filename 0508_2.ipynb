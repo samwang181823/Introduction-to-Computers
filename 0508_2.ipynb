{
  "nbformat": 4,
  "nbformat_minor": 0,
  "metadata": {
    "colab": {
      "provenance": [],
      "authorship_tag": "ABX9TyOa4zoCUr6tQ6eUK2mnG/sr",
      "include_colab_link": true
    },
    "kernelspec": {
      "name": "python3",
      "display_name": "Python 3"
    },
    "language_info": {
      "name": "python"
    }
  },
  "cells": [
    {
      "cell_type": "markdown",
      "metadata": {
        "id": "view-in-github",
        "colab_type": "text"
      },
      "source": [
        "<a href=\"https://colab.research.google.com/github/samwang181823/Introduction-to-Computers/blob/main/0508_2.ipynb\" target=\"_parent\"><img src=\"https://colab.research.google.com/assets/colab-badge.svg\" alt=\"Open In Colab\"/></a>"
      ]
    },
    {
      "cell_type": "code",
      "execution_count": 1,
      "metadata": {
        "colab": {
          "base_uri": "https://localhost:8080/"
        },
        "id": "NBEAKaJoDv_5",
        "outputId": "8a97ace6-ee40-42e8-c484-7fdef3c3b2fb"
      },
      "outputs": [
        {
          "output_type": "stream",
          "name": "stdout",
          "text": [
            "你年齡太小\n",
            "需年滿20歲才能購買菸酒\n"
          ]
        }
      ],
      "source": [
        "age = 18\n",
        "if(age<20):\n",
        "  print(\"你年齡太小\")\n",
        "  print(\"需年滿20歲才能購買菸酒\")"
      ]
    },
    {
      "cell_type": "code",
      "source": [
        "age = input(\"請輸入年齡\")\n",
        "if(int(age)<20):\n",
        "    print(\"你年齡太小了\")\n",
        "    print(\"需年滿20歲才可以購買菸酒\")\n",
        "else:\n",
        "   print(\"歡迎購買菸酒\")"
      ],
      "metadata": {
        "colab": {
          "base_uri": "https://localhost:8080/"
        },
        "id": "nLqS5zqOFWPU",
        "outputId": "e887ea0e-7af6-4125-8b39-179681366b86"
      },
      "execution_count": 2,
      "outputs": [
        {
          "output_type": "stream",
          "name": "stdout",
          "text": [
            "請輸入年齡18\n",
            "你年齡太小了\n",
            "需年滿20歲才可以購買菸酒\n"
          ]
        }
      ]
    },
    {
      "cell_type": "code",
      "source": [
        "print(\"計算最終成績\")\n",
        "score = input(\"請輸入分數\")\n",
        "sc = int(score)\n",
        "if(sc>=90):\n",
        "    print(\"A\")\n",
        "elif(sc>=80):\n",
        "    print(\"B\")\n",
        "elif(sc>=70):\n",
        "    print(\"C\")\n",
        "elif(sc>=60):\n",
        "    print(\"D\")\n",
        "else:\n",
        "    print(\"F\")"
      ],
      "metadata": {
        "colab": {
          "base_uri": "https://localhost:8080/"
        },
        "id": "PEkI6xVVGPgo",
        "outputId": "6bf9a82b-933e-4a78-b8bd-7d90a7817af8"
      },
      "execution_count": 3,
      "outputs": [
        {
          "output_type": "stream",
          "name": "stdout",
          "text": [
            "計算最終成績\n",
            "請輸入分數92\n",
            "A\n"
          ]
        }
      ]
    },
    {
      "cell_type": "code",
      "source": [
        "print(\"判斷輸入年份是否閏年\")\n",
        "year = int(input(\"請輸入年份:\"))\n",
        "rem4 = year % 4\n",
        "rem100 = year % 100\n",
        "rem400 = year % 400\n",
        "if rem4 == 0:\n",
        "    if rem100 != 0 or rem400 == 0:\n",
        "        print(\"是閏年\",year)\n",
        "    else:\n",
        "        print(\"是平年:\",year)\n",
        "else:\n",
        "    print(\"是平年:\",year)"
      ],
      "metadata": {
        "colab": {
          "base_uri": "https://localhost:8080/"
        },
        "id": "ZYImkZ1fHjBh",
        "outputId": "469cb2b4-9cc1-44ff-a253-18344b023018"
      },
      "execution_count": 4,
      "outputs": [
        {
          "output_type": "stream",
          "name": "stdout",
          "text": [
            "判斷輸入年份是否閏年\n",
            "請輸入年份:2000\n",
            "是閏年 2000\n"
          ]
        }
      ]
    },
    {
      "cell_type": "code",
      "source": [
        "num = int(input(\"請輸入一個整數：\"))\n",
        "if num >= 0:\n",
        "    if num % 2 == 0:\n",
        "        print(num, \"是偶數\")\n",
        "    else:\n",
        "        print(num, \"是奇數\")\n",
        "else:\n",
        "    print(\"輸入錯誤：請輸入大於等於0的整數\")"
      ],
      "metadata": {
        "colab": {
          "base_uri": "https://localhost:8080/"
        },
        "id": "t1MZ35DqIzUN",
        "outputId": "8c5a16d5-e405-451e-ec29-1f3b08f2d7b2"
      },
      "execution_count": 6,
      "outputs": [
        {
          "output_type": "stream",
          "name": "stdout",
          "text": [
            "請輸入一個整數：5\n",
            "5 是奇數\n"
          ]
        }
      ]
    }
  ]
}