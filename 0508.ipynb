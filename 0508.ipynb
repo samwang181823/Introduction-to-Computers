{
  "nbformat": 4,
  "nbformat_minor": 0,
  "metadata": {
    "colab": {
      "provenance": [],
      "authorship_tag": "ABX9TyM/cKjOzDDvn1hgonLVm40J",
      "include_colab_link": true
    },
    "kernelspec": {
      "name": "python3",
      "display_name": "Python 3"
    },
    "language_info": {
      "name": "python"
    }
  },
  "cells": [
    {
      "cell_type": "markdown",
      "metadata": {
        "id": "view-in-github",
        "colab_type": "text"
      },
      "source": [
        "<a href=\"https://colab.research.google.com/github/samwang181823/Introduction-to-Computers/blob/main/0508.ipynb\" target=\"_parent\"><img src=\"https://colab.research.google.com/assets/colab-badge.svg\" alt=\"Open In Colab\"/></a>"
      ]
    },
    {
      "cell_type": "code",
      "execution_count": 1,
      "metadata": {
        "colab": {
          "base_uri": "https://localhost:8080/"
        },
        "id": "tsJeWqo9DAcH",
        "outputId": "7b1a0342-c4c6-4d2d-dd7e-fe55c90f186f"
      },
      "outputs": [
        {
          "output_type": "stream",
          "name": "stdout",
          "text": [
            "請輸入成績：50\n",
            "成績等級為： E\n"
          ]
        }
      ],
      "source": [
        "def grade_classifier(score):\n",
        "    if score >= 90:\n",
        "        return \"A\"\n",
        "    elif 80 <= score <= 89:\n",
        "        return \"B\"\n",
        "    elif 70 <= score <= 79:\n",
        "        return \"C\"\n",
        "    elif 60 <= score <= 69:\n",
        "        return \"D\"\n",
        "    else:\n",
        "        return \"E\"\n",
        "\n",
        "score = float(input(\"請輸入成績：\"))\n",
        "grade = grade_classifier(score)\n",
        "print(\"成績等級為：\", grade)"
      ]
    },
    {
      "cell_type": "code",
      "source": [
        "def season_classifier(month):\n",
        "    if month in [3, 4, 5]:\n",
        "        return \"春天\"\n",
        "    elif month in [6, 7, 8]:\n",
        "        return \"夏天\"\n",
        "    elif month in [9, 10, 11]:\n",
        "        return \"秋天\"\n",
        "    elif month in [12, 1, 2]:\n",
        "        return \"冬天\"\n",
        "    else:\n",
        "        return \"月份不在範圍內\"\n",
        "\n",
        "month = int(input(\"請輸入月份（1-12）：\"))\n",
        "season = season_classifier(month)\n",
        "print(f\"{month}月是{season}!\")"
      ],
      "metadata": {
        "colab": {
          "base_uri": "https://localhost:8080/"
        },
        "id": "vzcKBpKXFxnb",
        "outputId": "d5c068f0-29c4-4b0b-b7ab-e6a89100b614"
      },
      "execution_count": 2,
      "outputs": [
        {
          "output_type": "stream",
          "name": "stdout",
          "text": [
            "請輸入月份（1-12）：3\n",
            "3月是春天!\n"
          ]
        }
      ]
    },
    {
      "cell_type": "code",
      "source": [
        "def tax_calculator(income):\n",
        "    if income >= 2000000:\n",
        "        tax_rate = 0.3\n",
        "    elif income >= 1000000:\n",
        "        tax_rate = 0.21\n",
        "    elif income >= 600000:\n",
        "        tax_rate = 0.13\n",
        "    elif income >= 300000:\n",
        "        tax_rate = 0.06\n",
        "    else:\n",
        "        tax_rate = 0\n",
        "\n",
        "    tax = income * tax_rate\n",
        "    return tax\n",
        "\n",
        "income = float(input(\"請輸入您的收入：\"))\n",
        "tax = tax_calculator(income)\n",
        "print(f\"您應繳的稅金為：{tax:.2f} 元\")"
      ],
      "metadata": {
        "colab": {
          "base_uri": "https://localhost:8080/"
        },
        "id": "I6tAk-BdGELe",
        "outputId": "833e5196-219a-414e-c61d-f630226253be"
      },
      "execution_count": 3,
      "outputs": [
        {
          "output_type": "stream",
          "name": "stdout",
          "text": [
            "請輸入您的收入：300000000\n",
            "您應繳的稅金為：90000000.00 元\n"
          ]
        }
      ]
    }
  ]
}